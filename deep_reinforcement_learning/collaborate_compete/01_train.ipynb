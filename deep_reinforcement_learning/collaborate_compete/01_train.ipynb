{
 "cells": [
  {
   "cell_type": "markdown",
   "metadata": {},
   "source": [
    "# Imports"
   ]
  },
  {
   "cell_type": "code",
   "execution_count": 1,
   "metadata": {},
   "outputs": [],
   "source": [
    "# Python Modules\n",
    "# --------------------------------------------------\n",
    "import time\n",
    "\n",
    "\n",
    "# Unity Modules\n",
    "# --------------------------------------------------\n",
    "from unityagents import UnityEnvironment\n",
    "\n",
    "\n",
    "# Custom Modules\n",
    "# --------------------------------------------------\n",
    "import config\n",
    "import utils\n",
    "import Agent"
   ]
  },
  {
   "cell_type": "markdown",
   "metadata": {},
   "source": [
    "# Setup Environment"
   ]
  },
  {
   "cell_type": "code",
   "execution_count": 3,
   "metadata": {},
   "outputs": [],
   "source": [
    "# Initialize Application\n",
    "# --------------------------------------------------\n",
    "env = UnityEnvironment(\n",
    "    file_name = config.UNITY_APP\n",
    ")\n",
    "\n",
    "\n",
    "# Get Brain \n",
    "# --------------------------------------------------\n",
    "brain_name = env.brain_names[0]\n",
    "brain      = env.brains[brain_name]\n",
    "\n",
    "\n",
    "# Get Environment Info \n",
    "# --------------------------------------------------\n",
    "env_info = env.reset(\n",
    "    train_mode = config.ENV_TRAIN_MODE\n",
    ")[brain_name]"
   ]
  },
  {
   "cell_type": "markdown",
   "metadata": {},
   "source": [
    "## Setup Agent"
   ]
  },
  {
   "cell_type": "code",
   "execution_count": 2,
   "metadata": {},
   "outputs": [],
   "source": [
    "agent = Agent.Agent(\n",
    "    state_size  = env_info.vector_observations.shape[1], \n",
    "    action_size = brain.vector_action_space_size, \n",
    "    n_agents    = len(env_info.agents)\n",
    ")"
   ]
  },
  {
   "cell_type": "markdown",
   "metadata": {},
   "source": [
    "## Training Agent"
   ]
  },
  {
   "cell_type": "code",
   "execution_count": 1,
   "metadata": {},
   "outputs": [],
   "source": [
    "# Log Message\n",
    "# --------------------------------------------------\n",
    "start_time = time.time()\n",
    "\n",
    "\n",
    "# Train Agent\n",
    "# --------------------------------------------------\n",
    "utils.ddpg(\n",
    "    agent      = agent,\n",
    "    env        = env,\n",
    "    brain_name = brain_name,\n",
    "    n_agents   = len(env_info.agents)\n",
    ")\n",
    "\n",
    "\n",
    "# Log Message\n",
    "# --------------------------------------------------\n",
    "print(f\"[INFO] total training time: {round(time.time() - start_time, 2)} seconds\")"
   ]
  },
  {
   "cell_type": "code",
   "execution_count": null,
   "metadata": {},
   "outputs": [],
   "source": []
  }
 ],
 "metadata": {
  "kernelspec": {
   "display_name": "Python 3 (ipykernel)",
   "language": "python",
   "name": "python3"
  },
  "language_info": {
   "codemirror_mode": {
    "name": "ipython",
    "version": 3
   },
   "file_extension": ".py",
   "mimetype": "text/x-python",
   "name": "python",
   "nbconvert_exporter": "python",
   "pygments_lexer": "ipython3",
   "version": "3.9.7"
  }
 },
 "nbformat": 4,
 "nbformat_minor": 2
}
