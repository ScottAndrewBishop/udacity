{
 "cells": [
  {
   "cell_type": "markdown",
   "metadata": {},
   "source": [
    "## Imports"
   ]
  },
  {
   "cell_type": "code",
   "execution_count": null,
   "metadata": {},
   "outputs": [],
   "source": [
    "# Python Modules\n",
    "# --------------------------------------------------\n",
    "import time\n",
    "import numpy as np\n",
    "\n",
    "\n",
    "# Unity Modules\n",
    "# --------------------------------------------------\n",
    "import unityagents as ua\n",
    "\n",
    "\n",
    "# Custom Modules\n",
    "# --------------------------------------------------\n",
    "import config\n",
    "import utils\n",
    "import Agent"
   ]
  },
  {
   "cell_type": "markdown",
   "metadata": {},
   "source": [
    "## Setup Environment"
   ]
  },
  {
   "cell_type": "code",
   "execution_count": null,
   "metadata": {
    "scrolled": true
   },
   "outputs": [],
   "source": [
    "# Initialize Application\n",
    "# --------------------------------------------------\n",
    "env = ua.UnityEnvironment(\n",
    "    file_name = config.UNITY_APP\n",
    ")\n",
    "\n",
    "\n",
    "# Get Brain\n",
    "# --------------------------------------------------\n",
    "brain_name = env.brain_names[0]\n",
    "brain      = env.brains[brain_name]\n",
    "\n",
    "\n",
    "# Get Environment Info\n",
    "# --------------------------------------------------\n",
    "env_info = env.reset(\n",
    "    train_mode = config.ENV_TRAIN_MODE\n",
    ")[brain_name]"
   ]
  },
  {
   "cell_type": "markdown",
   "metadata": {},
   "source": [
    "## Setup Agent"
   ]
  },
  {
   "cell_type": "code",
   "execution_count": null,
   "metadata": {},
   "outputs": [],
   "source": [
    "agent = Agent.Agent(\n",
    "    action_size  = brain.vector_action_space_size, \n",
    "    state_size   = len(env_info.vector_observations[0]), \n",
    "    batch_size   = config.AGENT_BATCH_SIZE,\n",
    "    buffer_size  = config.AGENT_BUFFER_SIZE,\n",
    "    gamma        = config.AGENT_GAMMA,\n",
    "    lr           = config.AGENT_LR,\n",
    "    tau          = config.AGENT_TAU,\n",
    "    update_every = config.AGENT_UPDATE_EVERY,\n",
    "    use_duel     = config.AGENT_USE_DUEL,\n",
    "    use_double   = config.AGENT_USE_DOUBLE\n",
    ")"
   ]
  },
  {
   "cell_type": "markdown",
   "metadata": {},
   "source": [
    "## Training Agent"
   ]
  },
  {
   "cell_type": "code",
   "execution_count": null,
   "metadata": {
    "scrolled": false
   },
   "outputs": [],
   "source": [
    "# Log Message\n",
    "# --------------------------------------------------\n",
    "start_time = time.time()\n",
    "\n",
    "\n",
    "# Train Agent\n",
    "# --------------------------------------------------\n",
    "scores = utils.train(\n",
    "    agent      = agent,\n",
    "    env        = env,\n",
    "    n_episodes = config.N_EPISODES,\n",
    "    max_t      = config.MAX_T,\n",
    "    eps_start  = config.EPS_START,\n",
    "    eps_end    = config.EPS_END,\n",
    "    eps_decay  = config.EPS_DECAY\n",
    ")\n",
    "\n",
    "\n",
    "# Log Message\n",
    "# --------------------------------------------------\n",
    "print(f\"Total Training Time: {round(time.time() - start_time, 2)} Seconds\")"
   ]
  },
  {
   "cell_type": "code",
   "execution_count": null,
   "metadata": {},
   "outputs": [],
   "source": []
  }
 ],
 "metadata": {
  "kernelspec": {
   "display_name": "drl",
   "language": "python",
   "name": "drl"
  },
  "language_info": {
   "codemirror_mode": {
    "name": "ipython",
    "version": 3
   },
   "file_extension": ".py",
   "mimetype": "text/x-python",
   "name": "python",
   "nbconvert_exporter": "python",
   "pygments_lexer": "ipython3",
   "version": "3.6.13"
  }
 },
 "nbformat": 4,
 "nbformat_minor": 2
}
