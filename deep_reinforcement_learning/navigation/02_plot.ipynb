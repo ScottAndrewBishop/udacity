{
 "cells": [
  {
   "cell_type": "markdown",
   "id": "4f631bf0",
   "metadata": {},
   "source": [
    "## Imports"
   ]
  },
  {
   "cell_type": "code",
   "execution_count": null,
   "id": "ae902c81",
   "metadata": {},
   "outputs": [],
   "source": [
    "# Python Modules\n",
    "# --------------------------------------------------\n",
    "import numpy             as np\n",
    "import matplotlib.pyplot as plt\n",
    "\n",
    "\n",
    "# Custom Modules\n",
    "# --------------------------------------------------\n",
    "import utils\n",
    "\n",
    "\n",
    "# Settings\n",
    "# --------------------------------------------------\n",
    "plt.style.use('seaborn')"
   ]
  },
  {
   "cell_type": "markdown",
   "id": "c72f4a7d",
   "metadata": {},
   "source": [
    "## Visualize Training Scores"
   ]
  },
  {
   "cell_type": "code",
   "execution_count": null,
   "id": "d39bee33",
   "metadata": {},
   "outputs": [],
   "source": [
    "utils.plot_learning()"
   ]
  }
 ],
 "metadata": {
  "kernelspec": {
   "display_name": "Python 3",
   "language": "python",
   "name": "python3"
  },
  "language_info": {
   "codemirror_mode": {
    "name": "ipython",
    "version": 3
   },
   "file_extension": ".py",
   "mimetype": "text/x-python",
   "name": "python",
   "nbconvert_exporter": "python",
   "pygments_lexer": "ipython3",
   "version": "3.6.13"
  }
 },
 "nbformat": 4,
 "nbformat_minor": 5
}
